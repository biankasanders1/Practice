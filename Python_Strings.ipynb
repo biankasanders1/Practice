{
  "nbformat": 4,
  "nbformat_minor": 0,
  "metadata": {
    "colab": {
      "name": "Python Strings.ipynb",
      "provenance": [],
      "authorship_tag": "ABX9TyNfbJz0dsORePnfJIuHpDVP",
      "include_colab_link": true
    },
    "kernelspec": {
      "name": "python3",
      "display_name": "Python 3"
    },
    "language_info": {
      "name": "python"
    }
  },
  "cells": [
    {
      "cell_type": "markdown",
      "metadata": {
        "id": "view-in-github",
        "colab_type": "text"
      },
      "source": [
        "<a href=\"https://colab.research.google.com/github/biankasanders1/Practice/blob/main/Python_Strings.ipynb\" target=\"_parent\"><img src=\"https://colab.research.google.com/assets/colab-badge.svg\" alt=\"Open In Colab\"/></a>"
      ]
    },
    {
      "cell_type": "code",
      "metadata": {
        "id": "VeIQFpts0Gr4"
      },
      "source": [
        ""
      ],
      "execution_count": null,
      "outputs": []
    },
    {
      "cell_type": "markdown",
      "metadata": {
        "id": "DAYAmaKW0Smq"
      },
      "source": [
        "#Strings"
      ]
    },
    {
      "cell_type": "code",
      "metadata": {
        "colab": {
          "base_uri": "https://localhost:8080/",
          "height": 38
        },
        "id": "uLm2QELS0UWx",
        "outputId": "ae9bdcff-ce34-48d9-f185-67f5a391f5d6"
      },
      "source": [
        "\"She is a data Scientist\""
      ],
      "execution_count": 1,
      "outputs": [
        {
          "output_type": "execute_result",
          "data": {
            "application/vnd.google.colaboratory.intrinsic+json": {
              "type": "string"
            },
            "text/plain": [
              "'She is a data Scientist'"
            ]
          },
          "metadata": {
            "tags": []
          },
          "execution_count": 1
        }
      ]
    },
    {
      "cell_type": "code",
      "metadata": {
        "colab": {
          "base_uri": "https://localhost:8080/"
        },
        "id": "VSZEBhBO0Zzd",
        "outputId": "54b363ff-cbc5-4089-a998-214a600798fd"
      },
      "source": [
        "print(\"She is a Data Scientist\")"
      ],
      "execution_count": 2,
      "outputs": [
        {
          "output_type": "stream",
          "text": [
            "She is a Data Scientist\n"
          ],
          "name": "stdout"
        }
      ]
    },
    {
      "cell_type": "code",
      "metadata": {
        "colab": {
          "base_uri": "https://localhost:8080/",
          "height": 38
        },
        "id": "Qhz6rImW0fM8",
        "outputId": "e86dc244-e6dc-4280-e0e8-099610f6e0af"
      },
      "source": [
        "\"He's a Data Scientist\""
      ],
      "execution_count": 3,
      "outputs": [
        {
          "output_type": "execute_result",
          "data": {
            "application/vnd.google.colaboratory.intrinsic+json": {
              "type": "string"
            },
            "text/plain": [
              "\"He's a Data Scientist\""
            ]
          },
          "metadata": {
            "tags": []
          },
          "execution_count": 3
        }
      ]
    },
    {
      "cell_type": "code",
      "metadata": {
        "colab": {
          "base_uri": "https://localhost:8080/",
          "height": 38
        },
        "id": "7LIMAqIZ0lsB",
        "outputId": "78fbf242-8aa7-408e-fde2-dba011c5f5cf"
      },
      "source": [
        "'He is a Data Scientist'"
      ],
      "execution_count": 4,
      "outputs": [
        {
          "output_type": "execute_result",
          "data": {
            "application/vnd.google.colaboratory.intrinsic+json": {
              "type": "string"
            },
            "text/plain": [
              "'He is a Data Scientist'"
            ]
          },
          "metadata": {
            "tags": []
          },
          "execution_count": 4
        }
      ]
    },
    {
      "cell_type": "code",
      "metadata": {
        "colab": {
          "base_uri": "https://localhost:8080/",
          "height": 135
        },
        "id": "jiJsdrxM0qDe",
        "outputId": "0f0d45aa-82c6-49a8-a402-e72249dbc350"
      },
      "source": [
        "print(\"Newton's third law: \"Every action has an equal but opposite reation\"')"
      ],
      "execution_count": 5,
      "outputs": [
        {
          "output_type": "error",
          "ename": "SyntaxError",
          "evalue": "ignored",
          "traceback": [
            "\u001b[0;36m  File \u001b[0;32m\"<ipython-input-5-cb5b73087bf8>\"\u001b[0;36m, line \u001b[0;32m1\u001b[0m\n\u001b[0;31m    print(\"Newton's third law: \"Every action has an equal but opposite reation\"')\u001b[0m\n\u001b[0m                                    ^\u001b[0m\n\u001b[0;31mSyntaxError\u001b[0m\u001b[0;31m:\u001b[0m invalid syntax\n"
          ]
        }
      ]
    },
    {
      "cell_type": "code",
      "metadata": {
        "id": "FlO0sxif1JpE"
      },
      "source": [
        ""
      ],
      "execution_count": null,
      "outputs": []
    },
    {
      "cell_type": "markdown",
      "metadata": {
        "id": "FLb7y4Yg1LHw"
      },
      "source": [
        "Escape character"
      ]
    },
    {
      "cell_type": "code",
      "metadata": {
        "colab": {
          "base_uri": "https://localhost:8080/"
        },
        "id": "A0sQ2cIZ1NMX",
        "outputId": "1ee8a52e-d68a-4d04-c1cc-f6914fa77bb8"
      },
      "source": [
        "print('Newton\\'s third law:\"every action has an equal but opposite reaction:')"
      ],
      "execution_count": 6,
      "outputs": [
        {
          "output_type": "stream",
          "text": [
            "Newton's third law:\"every action has an equal but opposite reaction:\n"
          ],
          "name": "stdout"
        }
      ]
    },
    {
      "cell_type": "code",
      "metadata": {
        "id": "FsP0TJGW1Ys7"
      },
      "source": [
        ""
      ],
      "execution_count": null,
      "outputs": []
    },
    {
      "cell_type": "markdown",
      "metadata": {
        "id": "8MG04KaY1aKY"
      },
      "source": [
        "String Concantenation"
      ]
    },
    {
      "cell_type": "code",
      "metadata": {
        "colab": {
          "base_uri": "https://localhost:8080/"
        },
        "id": "2mvuXjGs1cDR",
        "outputId": "beb301fe-9785-4f1d-b05c-ef99cfcb7237"
      },
      "source": [
        "print(\"hello\" + \"world\")"
      ],
      "execution_count": 8,
      "outputs": [
        {
          "output_type": "stream",
          "text": [
            "helloworld\n"
          ],
          "name": "stdout"
        }
      ]
    },
    {
      "cell_type": "code",
      "metadata": {
        "id": "rctkaqAF1jAr"
      },
      "source": [
        "#String Indexing "
      ],
      "execution_count": 9,
      "outputs": []
    },
    {
      "cell_type": "code",
      "metadata": {
        "colab": {
          "base_uri": "https://localhost:8080/"
        },
        "id": "4FO2t2NZ1t8L",
        "outputId": "cd8e081e-aa96-4905-d795-c5926b1a7bbb"
      },
      "source": [
        "greetings = \"Hello World!\"\n",
        "print(greetings)\n",
        "first =\"Hello\"\n",
        "second = \"World!\"\n",
        "join = first + second\n",
        "print (join)"
      ],
      "execution_count": 15,
      "outputs": [
        {
          "output_type": "stream",
          "text": [
            "Hello World!\n",
            "HelloWorld!\n"
          ],
          "name": "stdout"
        }
      ]
    },
    {
      "cell_type": "code",
      "metadata": {
        "id": "BCNtbo6E2CXM"
      },
      "source": [
        "#String Slicing \n"
      ],
      "execution_count": 16,
      "outputs": []
    },
    {
      "cell_type": "code",
      "metadata": {
        "id": "xxwSBKal2Yik"
      },
      "source": [
        "#extracting a particular substring from the string "
      ],
      "execution_count": 17,
      "outputs": []
    },
    {
      "cell_type": "markdown",
      "metadata": {
        "id": "BQ4blV-12aE0"
      },
      "source": [
        "- some_string [start:end]"
      ]
    },
    {
      "cell_type": "code",
      "metadata": {
        "colab": {
          "base_uri": "https://localhost:8080/"
        },
        "id": "oqPvzmWw2e-L",
        "outputId": "6d342af9-59c7-4a69-d614-b2aefd1fece9"
      },
      "source": [
        "greetings = \"Hello World!\"\n",
        "\n",
        "print(\"First part ->\", greetings[0:5])\n",
        "print(\"Second part ->\", greeting [6:12])"
      ],
      "execution_count": 18,
      "outputs": [
        {
          "output_type": "stream",
          "text": [
            "First part -> Hello\n",
            "Second part -> World!\n"
          ],
          "name": "stdout"
        }
      ]
    },
    {
      "cell_type": "code",
      "metadata": {
        "colab": {
          "base_uri": "https://localhost:8080/"
        },
        "id": "bDITNG5F3DSU",
        "outputId": "f0fd656a-034c-4f67-e600-09cbf34a2c0e"
      },
      "source": [
        "print(greetings[0:1])"
      ],
      "execution_count": 20,
      "outputs": [
        {
          "output_type": "stream",
          "text": [
            "H\n"
          ],
          "name": "stdout"
        }
      ]
    },
    {
      "cell_type": "code",
      "metadata": {
        "id": "_cDigrVH3GcX"
      },
      "source": [
        ""
      ],
      "execution_count": null,
      "outputs": []
    },
    {
      "cell_type": "markdown",
      "metadata": {
        "id": "2pHuAaeY3RdG"
      },
      "source": [
        "#Len function"
      ]
    },
    {
      "cell_type": "code",
      "metadata": {
        "colab": {
          "base_uri": "https://localhost:8080/"
        },
        "id": "Fd0L7fzf3TYM",
        "outputId": "cfe44263-60ef-479c-ee24-48ddff0105a7"
      },
      "source": [
        "#len()\n",
        "sentence=\"My name is Bianka and I love food\"\n",
        "print(len(sentence))"
      ],
      "execution_count": 21,
      "outputs": [
        {
          "output_type": "stream",
          "text": [
            "33\n"
          ],
          "name": "stdout"
        }
      ]
    },
    {
      "cell_type": "code",
      "metadata": {
        "id": "NCeflamn3fdn"
      },
      "source": [
        "#Summary"
      ],
      "execution_count": 22,
      "outputs": []
    },
    {
      "cell_type": "code",
      "metadata": {
        "colab": {
          "base_uri": "https://localhost:8080/"
        },
        "id": "1AadwsYL3meG",
        "outputId": "56d99491-1258-46c2-ba64-7169625c6a51"
      },
      "source": [
        "print(sentence[len(sentence)-1])"
      ],
      "execution_count": 28,
      "outputs": [
        {
          "output_type": "stream",
          "text": [
            "d\n"
          ],
          "name": "stdout"
        }
      ]
    },
    {
      "cell_type": "code",
      "metadata": {
        "id": "dEz_bser3saO"
      },
      "source": [
        ""
      ],
      "execution_count": null,
      "outputs": []
    }
  ]
}